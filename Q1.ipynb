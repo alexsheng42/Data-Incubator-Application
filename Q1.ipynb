{
 "cells": [
  {
   "cell_type": "code",
   "execution_count": null,
   "metadata": {
    "collapsed": true
   },
   "outputs": [],
   "source": [
    "import numpy as np\n",
    "\n",
    "N = [10,20]\n",
    "Thres = [45,160]\n",
    "M_simulation = 10000000\n",
    "\n",
    "for r in range(0,2):\n",
    "    payments=[]\n",
    "    greater_than_thres = 0.\n",
    "    for i in range(M_simulation):\n",
    "        com = np.random.permutation(N[r]) + 1\n",
    "        payment=[]\n",
    "        for i in range(0,N[r]):\n",
    "            if i ==0:\n",
    "                payment.append(com[i])\n",
    "            else:\n",
    "                payment.append(abs(com[i]-com[i-1]))\n",
    "    \n",
    "        total_payment = sum(payment)\n",
    "        payments.append(total_payment)\n",
    "        if total_payment >= Thres[r]:\n",
    "            greater_than_thres += 1\n",
    "\n",
    "    mean = round(np.mean(payments),10)\n",
    "    std = round(np.std(payments),10)\n",
    "    prob = round(greater_than_thres/M_simulation,10)\n",
    "\n",
    "    print(mean,std, prob)"
   ]
  }
 ],
 "metadata": {
  "kernelspec": {
   "display_name": "Python 2",
   "language": "python",
   "name": "python2"
  },
  "language_info": {
   "codemirror_mode": {
    "name": "ipython",
    "version": 2
   },
   "file_extension": ".py",
   "mimetype": "text/x-python",
   "name": "python",
   "nbconvert_exporter": "python",
   "pygments_lexer": "ipython2",
   "version": "2.7.13"
  }
 },
 "nbformat": 4,
 "nbformat_minor": 0
}
