{
 "cells": [
  {
   "cell_type": "code",
   "execution_count": 2,
   "metadata": {
    "collapsed": false
   },
   "outputs": [
    {
     "name": "stdout",
     "output_type": "stream",
     "text": [
      "1097.00795562\n",
      "0.1376321945\n",
      "0.0275\n"
     ]
    },
    {
     "name": "stderr",
     "output_type": "stream",
     "text": [
      "C:\\tool\\Anaconda2\\lib\\site-packages\\ipykernel\\__main__.py:39: SettingWithCopyWarning: \n",
      "A value is trying to be set on a copy of a slice from a DataFrame.\n",
      "Try using .loc[row_indexer,col_indexer] = value instead\n",
      "\n",
      "See the caveats in the documentation: http://pandas.pydata.org/pandas-docs/stable/indexing.html#indexing-view-versus-copy\n",
      "C:\\tool\\Anaconda2\\lib\\site-packages\\IPython\\core\\interactiveshell.py:2723: DtypeWarning: Columns (6,9,1379,1380,1381,1382,1383,1384,1385,1386,1387,1388,1389,1390,1391,1392,1393,1394,1395,1396,1397,1398,1399,1400,1401,1402,1403,1404,1405,1406,1407,1411,1425,1427,1503,1517,1529,1530,1532,1537,1540,1541,1542,1575,1576,1577,1578,1579,1580,1581,1582,1583,1584,1585,1586,1587,1588,1589,1590,1591,1592,1593,1594,1595,1596,1597,1598,1599,1600,1601,1602,1605,1606,1609,1610,1613,1614,1615,1725,1726,1727,1728,1729) have mixed types. Specify dtype option on import or set low_memory=False.\n",
      "  interactivity=interactivity, compiler=compiler, result=result)\n"
     ]
    },
    {
     "name": "stdout",
     "output_type": "stream",
     "text": [
      "0.6233933162\n",
      "0.6618369648\n",
      "(2.1082863875123491e-78, 77.6760703953)\n"
     ]
    },
    {
     "name": "stderr",
     "output_type": "stream",
     "text": [
      "C:\\tool\\Anaconda2\\lib\\site-packages\\IPython\\core\\interactiveshell.py:2723: DtypeWarning: Columns (1) have mixed types. Specify dtype option on import or set low_memory=False.\n",
      "  interactivity=interactivity, compiler=compiler, result=result)\n",
      "C:\\tool\\Anaconda2\\lib\\site-packages\\IPython\\core\\interactiveshell.py:2723: DtypeWarning: Columns (1,6,442,451,598,607,611,620,624,633,789,802,806,815,893,906,971,984,997,1153,1166,1407,1408,1411,1425,1431,1432,1433,1437,1438,1439,1440,1445,1446,1447,1451,1452,1453,1454,1459,1460,1461,1465,1466,1467,1468,1473,1474,1475,1479,1480,1481,1482,1487,1488,1489,1501,1502,1537,1538,1539,1540,1541,1542,1603,1606,1609,1610,1611,1613,1614,1615,1616,1688,1689,1690,1691,1692,1729) have mixed types. Specify dtype option on import or set low_memory=False.\n",
      "  interactivity=interactivity, compiler=compiler, result=result)\n",
      "C:\\tool\\Anaconda2\\lib\\site-packages\\IPython\\core\\interactiveshell.py:2723: DtypeWarning: Columns (1,1729) have mixed types. Specify dtype option on import or set low_memory=False.\n",
      "  interactivity=interactivity, compiler=compiler, result=result)\n",
      "C:\\tool\\Anaconda2\\lib\\site-packages\\IPython\\core\\interactiveshell.py:2723: DtypeWarning: Columns (1,6,1408,1431,1432,1433,1475,1489,1537,1538,1539,1540,1542,1603,1606,1610,1611,1614,1615,1616,1729) have mixed types. Specify dtype option on import or set low_memory=False.\n",
      "  interactivity=interactivity, compiler=compiler, result=result)\n",
      "C:\\tool\\Anaconda2\\lib\\site-packages\\IPython\\core\\interactiveshell.py:2723: DtypeWarning: Columns (1,1447,1537,1540,1542,1606,1614,1615) have mixed types. Specify dtype option on import or set low_memory=False.\n",
      "  interactivity=interactivity, compiler=compiler, result=result)\n",
      "C:\\tool\\Anaconda2\\lib\\site-packages\\IPython\\core\\interactiveshell.py:2723: DtypeWarning: Columns (1,1537,1540,1542,1606,1614,1615) have mixed types. Specify dtype option on import or set low_memory=False.\n",
      "  interactivity=interactivity, compiler=compiler, result=result)\n",
      "C:\\tool\\Anaconda2\\lib\\site-packages\\IPython\\core\\interactiveshell.py:2723: DtypeWarning: Columns (1,6,1461,1561,1729) have mixed types. Specify dtype option on import or set low_memory=False.\n",
      "  interactivity=interactivity, compiler=compiler, result=result)\n"
     ]
    },
    {
     "name": "stdout",
     "output_type": "stream",
     "text": [
      "0.5732395864\n"
     ]
    }
   ],
   "source": [
    "import pandas as pd\n",
    "data_2013 = pd.read_csv('MERGED2013_14_PP.csv',encoding=\"utf-8-sig\")\n",
    "\n",
    "#Question 1:\n",
    "q1_related_cols = [\"UNITID\",\"OPEID\",\"ICLEVEL\",\"SAT_AVG\",\"UGDS\"]\n",
    "df_q1 = data_2013[q1_related_cols]\n",
    "df_q1 = df_q1.round(10)\n",
    "df_q1 = df_q1.dropna()\n",
    "df_q1 = df_q1[df_q1['ICLEVEL']==1]\n",
    "df_q1['New_admitted'] = df_q1['UGDS'].astype(float)/4.0\n",
    "df_q1['weighted']= df_q1['SAT_AVG'].astype(float)*df_q1['New_admitted'].astype(float)/df_q1['New_admitted'].astype(float).sum()\n",
    "avg_sat = df_q1['weighted'].astype(float).sum()\n",
    "print(avg_sat)\n",
    "\n",
    "#Question 2:\n",
    "q2_related_cols = [\"UNITID\",'OPEID','UGDS','ICLEVEL','LO_INC_COMP_ORIG_YR4_RT','LO_INC_COMP_4YR_TRANS_YR4_RT','MD_INC_COMP_ORIG_YR4_RT',\n",
    "                   'MD_INC_COMP_4YR_TRANS_YR4_RT','HI_INC_COMP_ORIG_YR4_RT',\n",
    "                   'HI_INC_COMP_4YR_TRANS_YR4_RT']\n",
    "df_q2 = data_2013[q2_related_cols]\n",
    "df_q2 = df_q2[df_q2['ICLEVEL']==1]\n",
    "reduced_cols = ['LO_INC_COMP_ORIG_YR4_RT','LO_INC_COMP_4YR_TRANS_YR4_RT','MD_INC_COMP_ORIG_YR4_RT',\n",
    "                'MD_INC_COMP_4YR_TRANS_YR4_RT','HI_INC_COMP_ORIG_YR4_RT','HI_INC_COMP_4YR_TRANS_YR4_RT']\n",
    "df_q2 = df_q2.dropna()\n",
    "for col in reduced_cols:\n",
    "    condition = (df_q2[col]!=\"PrivacySuppressed\")\n",
    "    df_q2 = df_q2[condition]\n",
    "    \n",
    "df_q2['lo_within_4yrs'] = df_q2['LO_INC_COMP_ORIG_YR4_RT'].astype(float)+df_q2['LO_INC_COMP_4YR_TRANS_YR4_RT'].astype(float)\n",
    "df_q2['hi_within_4yrs'] = df_q2['HI_INC_COMP_ORIG_YR4_RT'].astype(float)+df_q2['HI_INC_COMP_4YR_TRANS_YR4_RT'].astype(float)\n",
    "diff = df_q2['hi_within_4yrs'].mean() - df_q2['lo_within_4yrs'].mean()\n",
    "print(round(diff,10))\n",
    "\n",
    "#Question 3:\n",
    "q3_related_cols =[\"UNITID\",'OPEID','UGDS_WHITE','UGDS_BLACK','UGDS_HISP','UGDS_ASIAN','UGDS_AIAN','UGDS_NHPI']\n",
    "df_q3 = data_2013[q3_related_cols]\n",
    "filtered_cols = ['UGDS_WHITE','UGDS_BLACK','UGDS_HISP','UGDS_ASIAN','UGDS_AIAN','UGDS_NHPI']\n",
    "df_q3 = df_q3[df_q3[filtered_cols].notnull().any(axis=1)]\n",
    "df_q3_new = df_q3[filtered_cols]\n",
    "df_q3_new['Max'] = df_q3_new.max(axis=1)\n",
    "df_q3_new['Min'] = df_q3_new.min(axis=1)\n",
    "df_q3 = pd.concat([df_q3, df_q3_new[['Max','Min']]],axis=1)\n",
    "df_q3['Max-Min'] = df_q3['Max'] - df_q3['Min']\n",
    "df_q3_final = df_q3[df_q3['Max-Min']>0]\n",
    "min_diff = df_q3_final.min()[-1]\n",
    "print(round(min_diff,10))\n",
    "\n",
    "#Question 4:\n",
    "data_2014 = pd.read_csv('MERGED2014_15_PP.csv',encoding=\"utf-8-sig\")\n",
    "q4_related_cols = [\"UNITID\",'OPEID',\"REGION\",\"LOCALE\"]\n",
    "df_q4 = data_2014[q4_related_cols]\n",
    "df_q4 = df_q4.dropna()\n",
    "df_q4 = df_q4[df_q4['LOCALE']>0]\n",
    "def is_city(code):\n",
    "    if code < 20:\n",
    "        return \"City\"\n",
    "    return \"Not City\"\n",
    "df_q4['City'] = df_q4['LOCALE'].apply(is_city)\n",
    "region_lst = range(1,10)\n",
    "city_percentage_region = {}\n",
    "for region in region_lst:\n",
    "    df_region = df_q4[df_q4['REGION']==region]\n",
    "    df_city = df_region[df_region['City']=='City']\n",
    "    percentage = float(len(df_city))/float(len(df_region))\n",
    "    city_percentage_region[region] = percentage\n",
    "maximum = max(city_percentage_region.values())\n",
    "print(round(maximum,10))\n",
    "\n",
    "#Question 5:\n",
    "q5_related_cols = [\"UNITID\",\"OPEID\",\"SAT_AVG\",\"ENRL_ORIG_YR2_RT\"]\n",
    "df_q5 = data_2013[q5_related_cols]\n",
    "df_q5 = df_q5.dropna()\n",
    "df_q5 = df_q5[df_q5['ENRL_ORIG_YR2_RT']!=\"PrivacySuppressed\"]\n",
    "df_q5['ENRL_ORIG_YR2_RT'] = df_q5['ENRL_ORIG_YR2_RT'].astype(float)\n",
    "correlation = df_q5.corr()['ENRL_ORIG_YR2_RT'][2]\n",
    "print(round(correlation,10))\n",
    "\n",
    "#Question 6:\n",
    "import scipy.stats\n",
    "import math\n",
    "test = scipy.stats.ttest_ind(df_q2['lo_within_4yrs'],df_q2['hi_within_4yrs'])\n",
    "p_value = test[1]\n",
    "logp_value = - math.log10(p_value)\n",
    "print(p_value,round(logp_value,10))\n",
    "\n",
    "#Question 7:\n",
    "files = ['MERGED2001_02_PP.csv','MERGED2002_03_PP.csv','MERGED2003_04_PP.csv',\n",
    "         'MERGED2004_05_PP.csv','MERGED2005_06_PP.csv','MERGED2006_07_PP.csv',\n",
    "         'MERGED2007_08_PP.csv','MERGED2008_09_PP.csv','MERGED2009_10_PP.csv','MERGED2010_11_PP.csv']\n",
    "q7_related_cols = [\"UNITID\",\"UGDS\",\"UGDS_WOMEN\"]\n",
    "UGDS_lst = []\n",
    "women_share = []\n",
    "simple_avg = []\n",
    "weighted_avg = []\n",
    "for f in files:\n",
    "    data = pd.read_csv(f,encoding=\"utf-8-sig\")\n",
    "    df = data[q7_related_cols]\n",
    "    df = df.dropna()\n",
    "    df['weighted_women_share'] = df['UGDS']*df['UGDS_WOMEN']\n",
    "    simple_avg.append(df['UGDS_WOMEN'].mean())\n",
    "    weighted_avg.append(df['weighted_women_share'].sum()/df['UGDS'].sum())\n",
    "    UGDS_lst.append(df['UGDS'].sum())\n",
    "    women_share.append(df['weighted_women_share'].sum())\n",
    "print(round(sum(women_share)/sum(UGDS_lst),10))"
   ]
  }
 ],
 "metadata": {
  "kernelspec": {
   "display_name": "Python 2",
   "language": "python",
   "name": "python2"
  },
  "language_info": {
   "codemirror_mode": {
    "name": "ipython",
    "version": 2
   },
   "file_extension": ".py",
   "mimetype": "text/x-python",
   "name": "python",
   "nbconvert_exporter": "python",
   "pygments_lexer": "ipython2",
   "version": "2.7.13"
  }
 },
 "nbformat": 4,
 "nbformat_minor": 0
}
